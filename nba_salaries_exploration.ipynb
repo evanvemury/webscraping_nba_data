{
 "cells": [
  {
   "cell_type": "markdown",
   "id": "c5131521",
   "metadata": {},
   "source": [
    "# Scraping, Cleaning, Exploring, & Visualizing NBA Salaries Data"
   ]
  },
  {
   "cell_type": "markdown",
   "id": "c1e626d7",
   "metadata": {},
   "source": [
    "### Step 1: Web-scraping data from BasketballReference"
   ]
  },
  {
   "cell_type": "code",
   "execution_count": 1,
   "id": "0606bcf0",
   "metadata": {},
   "outputs": [],
   "source": [
    "import requests\n",
    "import pandas as pd\n",
    "from bs4 import BeautifulSoup"
   ]
  },
  {
   "cell_type": "code",
   "execution_count": 2,
   "id": "093717af",
   "metadata": {},
   "outputs": [],
   "source": [
    "URL = 'https://www.basketball-reference.com/contracts/'"
   ]
  },
  {
   "cell_type": "code",
   "execution_count": 3,
   "id": "592e9196",
   "metadata": {},
   "outputs": [],
   "source": [
    "website = requests.get(URL)"
   ]
  },
  {
   "cell_type": "code",
   "execution_count": 4,
   "id": "3eeb60a2",
   "metadata": {},
   "outputs": [],
   "source": [
    "soup = BeautifulSoup(website.text,'html')"
   ]
  },
  {
   "cell_type": "code",
   "execution_count": 7,
   "id": "055b7dc3",
   "metadata": {},
   "outputs": [],
   "source": [
    "salaries = soup.find_all('table')[0]"
   ]
  },
  {
   "cell_type": "code",
   "execution_count": 8,
   "id": "0ae5d3a5",
   "metadata": {
    "scrolled": false
   },
   "outputs": [
    {
     "data": {
      "text/plain": [
       "<table class=\"suppress_glossary sortable stats_table\" data-cols-to-freeze=\",2\" id=\"team_summary\">\n",
       "<caption>Teams Table</caption>\n",
       "<colgroup><col/><col/><col/><col/><col/><col/><col/><col/></colgroup>\n",
       "<thead>\n",
       "<tr class=\"over_header\">\n",
       "<th aria-label=\"\" class=\"over_header center\" colspan=\"2\" data-stat=\"\"></th>\n",
       "<th aria-label=\"\" class=\"over_header center\" colspan=\"6\" data-stat=\"header_salary\">Salary</th>\n",
       "</tr>\n",
       "<tr>\n",
       "<th aria-label=\"Rk\" class=\"ranker poptip sort_default_asc show_partial_when_sorting right\" data-stat=\"ranker\" data-tip=\"Rank\" scope=\"col\">Rk</th>\n",
       "<th aria-label=\"Team\" class=\"poptip sort_default_asc left\" data-stat=\"team_name\" scope=\"col\">Team</th>\n",
       "<th aria-label=\"2023-24\" class=\"poptip center\" data-over-header=\"Salary\" data-stat=\"y1\" scope=\"col\">2023-24</th>\n",
       "<th aria-label=\"2024-25\" class=\"poptip center\" data-over-header=\"Salary\" data-stat=\"y2\" scope=\"col\">2024-25</th>\n",
       "<th aria-label=\"2025-26\" class=\"poptip center\" data-over-header=\"Salary\" data-stat=\"y3\" scope=\"col\">2025-26</th>\n",
       "<th aria-label=\"2026-27\" class=\"poptip center\" data-over-header=\"Salary\" data-stat=\"y4\" scope=\"col\">2026-27</th>\n",
       "<th aria-label=\"2027-28\" class=\"poptip center\" data-over-header=\"Salary\" data-stat=\"y5\" scope=\"col\">2027-28</th>\n",
       "<th aria-label=\"2028-29\" class=\"poptip center\" data-over-header=\"Salary\" data-stat=\"y6\" scope=\"col\">2028-29</th>\n",
       "</tr>\n",
       "</thead>\n",
       "<tbody><tr><th class=\"right\" csk=\"1\" data-stat=\"ranker\" scope=\"row\">1</th><td class=\"left\" data-stat=\"team_name\"><a href=\"/contracts/LAC.html\">Los Angeles Clippers</a></td><td class=\"right\" csk=\"185299089\" data-stat=\"y1\">$185,299,089</td><td class=\"right\" csk=\"150613648\" data-stat=\"y2\">$150,613,648</td><td class=\"right\" csk=\"23137638\" data-stat=\"y3\">$23,137,638</td><td class=\"right\" csk=\"4792059\" data-stat=\"y4\">$4,792,059</td><td class=\"right iz\" data-stat=\"y5\"></td><td class=\"right iz\" data-stat=\"y6\"></td></tr>\n",
       "<tr><th class=\"right\" csk=\"2\" data-stat=\"ranker\" scope=\"row\">2</th><td class=\"left\" data-stat=\"team_name\"><a href=\"/contracts/ATL.html\">Atlanta Hawks</a></td><td class=\"right\" csk=\"181282107\" data-stat=\"y1\">$181,282,107</td><td class=\"right\" csk=\"135101573\" data-stat=\"y2\">$135,101,573</td><td class=\"right\" csk=\"111429025\" data-stat=\"y3\">$111,429,025</td><td class=\"right\" csk=\"83188502\" data-stat=\"y4\">$83,188,502</td><td class=\"right iz\" data-stat=\"y5\"></td><td class=\"right iz\" data-stat=\"y6\"></td></tr>\n",
       "<tr><th class=\"right\" csk=\"3\" data-stat=\"ranker\" scope=\"row\">3</th><td class=\"left\" data-stat=\"team_name\"><a href=\"/contracts/GSW.html\">Golden State Warriors</a></td><td class=\"right\" csk=\"180764172\" data-stat=\"y1\">$180,764,172</td><td class=\"right\" csk=\"147127538\" data-stat=\"y2\">$147,127,538</td><td class=\"right\" csk=\"91517992\" data-stat=\"y3\">$91,517,992</td><td class=\"right\" csk=\"35849103\" data-stat=\"y4\">$35,849,103</td><td class=\"right iz\" data-stat=\"y5\"></td><td class=\"right iz\" data-stat=\"y6\"></td></tr>\n",
       "<tr><th class=\"right\" csk=\"4\" data-stat=\"ranker\" scope=\"row\">4</th><td class=\"left\" data-stat=\"team_name\"><a href=\"/contracts/BOS.html\">Boston Celtics</a></td><td class=\"right\" csk=\"171350016\" data-stat=\"y1\">$171,350,016</td><td class=\"right\" csk=\"102841470\" data-stat=\"y2\">$102,841,470</td><td class=\"right\" csk=\"52880796\" data-stat=\"y3\">$52,880,796</td><td class=\"right\" csk=\"2406205\" data-stat=\"y4\">$2,406,205</td><td class=\"right iz\" data-stat=\"y5\"></td><td class=\"right iz\" data-stat=\"y6\"></td></tr>\n",
       "<tr><th class=\"right\" csk=\"5\" data-stat=\"ranker\" scope=\"row\">5</th><td class=\"left\" data-stat=\"team_name\"><a href=\"/contracts/MIA.html\">Miami Heat</a></td><td class=\"right\" csk=\"167188247\" data-stat=\"y1\">$167,188,247</td><td class=\"right\" csk=\"145329917\" data-stat=\"y2\">$145,329,917</td><td class=\"right\" csk=\"148705031\" data-stat=\"y3\">$148,705,031</td><td class=\"right\" csk=\"38939141\" data-stat=\"y4\">$38,939,141</td><td class=\"right iz\" data-stat=\"y5\"></td><td class=\"right iz\" data-stat=\"y6\"></td></tr>\n",
       "<tr><th class=\"right\" csk=\"6\" data-stat=\"ranker\" scope=\"row\">6</th><td class=\"left\" data-stat=\"team_name\"><a href=\"/contracts/PHO.html\">Phoenix Suns</a></td><td class=\"right\" csk=\"166722453\" data-stat=\"y1\">$166,722,453</td><td class=\"right\" csk=\"186725421\" data-stat=\"y2\">$186,725,421</td><td class=\"right\" csk=\"197110293\" data-stat=\"y3\">$197,110,293</td><td class=\"right\" csk=\"114252810\" data-stat=\"y4\">$114,252,810</td><td class=\"right\" csk=\"61063800\" data-stat=\"y5\">$61,063,800</td><td class=\"right iz\" data-stat=\"y6\"></td></tr>\n",
       "<tr><th class=\"right\" csk=\"7\" data-stat=\"ranker\" scope=\"row\">7</th><td class=\"left\" data-stat=\"team_name\"><a href=\"/contracts/DEN.html\">Denver Nuggets</a></td><td class=\"right\" csk=\"164315730\" data-stat=\"y1\">$164,315,730</td><td class=\"right\" csk=\"171212116\" data-stat=\"y2\">$171,212,116</td><td class=\"right\" csk=\"127530978\" data-stat=\"y3\">$127,530,978</td><td class=\"right\" csk=\"103789081\" data-stat=\"y4\">$103,789,081</td><td class=\"right\" csk=\"61908000\" data-stat=\"y5\">$61,908,000</td><td class=\"right iz\" data-stat=\"y6\"></td></tr>\n",
       "<tr><th class=\"right\" csk=\"8\" data-stat=\"ranker\" scope=\"row\">8</th><td class=\"left\" data-stat=\"team_name\"><a href=\"/contracts/PHI.html\">Philadelphia 76ers</a></td><td class=\"right\" csk=\"164159456\" data-stat=\"y1\">$164,159,456</td><td class=\"right\" csk=\"66209363\" data-stat=\"y2\">$66,209,363</td><td class=\"right\" csk=\"54404000\" data-stat=\"y3\">$54,404,000</td><td class=\"right\" csk=\"58156000\" data-stat=\"y4\">$58,156,000</td><td class=\"right iz\" data-stat=\"y5\"></td><td class=\"right iz\" data-stat=\"y6\"></td></tr>\n",
       "<tr><th class=\"right\" csk=\"9\" data-stat=\"ranker\" scope=\"row\">9</th><td class=\"left\" data-stat=\"team_name\"><a href=\"/contracts/NOP.html\">New Orleans Pelicans</a></td><td class=\"right\" csk=\"154448264\" data-stat=\"y1\">$154,448,264</td><td class=\"right\" csk=\"134468185\" data-stat=\"y2\">$134,468,185</td><td class=\"right\" csk=\"81975695\" data-stat=\"y3\">$81,975,695</td><td class=\"right\" csk=\"48561895\" data-stat=\"y4\">$48,561,895</td><td class=\"right\" csk=\"44220000\" data-stat=\"y5\">$44,220,000</td><td class=\"right iz\" data-stat=\"y6\"></td></tr>\n",
       "<tr><th class=\"right\" csk=\"10\" data-stat=\"ranker\" scope=\"row\">10</th><td class=\"left\" data-stat=\"team_name\"><a href=\"/contracts/MIN.html\">Minnesota Timberwolves</a></td><td class=\"right\" csk=\"149441150\" data-stat=\"y1\">$149,441,150</td><td class=\"right\" csk=\"111615757\" data-stat=\"y2\">$111,615,757</td><td class=\"right\" csk=\"121623970\" data-stat=\"y3\">$121,623,970</td><td class=\"right\" csk=\"57124200\" data-stat=\"y4\">$57,124,200</td><td class=\"right\" csk=\"61063800\" data-stat=\"y5\">$61,063,800</td><td class=\"right iz\" data-stat=\"y6\"></td></tr>\n",
       "<tr><th class=\"right\" csk=\"11\" data-stat=\"ranker\" scope=\"row\">11</th><td class=\"left\" data-stat=\"team_name\"><a href=\"/contracts/MEM.html\">Memphis Grizzlies</a></td><td class=\"right\" csk=\"146843762\" data-stat=\"y1\">$146,843,762</td><td class=\"right\" csk=\"152729813\" data-stat=\"y2\">$152,729,813</td><td class=\"right\" csk=\"112270143\" data-stat=\"y3\">$112,270,143</td><td class=\"right\" csk=\"60205000\" data-stat=\"y4\">$60,205,000</td><td class=\"right\" csk=\"44220000\" data-stat=\"y5\">$44,220,000</td><td class=\"right iz\" data-stat=\"y6\"></td></tr>\n",
       "<tr><th class=\"right\" csk=\"12\" data-stat=\"ranker\" scope=\"row\">12</th><td class=\"left\" data-stat=\"team_name\"><a href=\"/contracts/OKC.html\">Oklahoma City Thunder</a></td><td class=\"right\" csk=\"142161291\" data-stat=\"y1\">$142,161,291</td><td class=\"right\" csk=\"129514493\" data-stat=\"y2\">$129,514,493</td><td class=\"right\" csk=\"102597309\" data-stat=\"y3\">$102,597,309</td><td class=\"right\" csk=\"73112178\" data-stat=\"y4\">$73,112,178</td><td class=\"right iz\" data-stat=\"y5\"></td><td class=\"right iz\" data-stat=\"y6\"></td></tr>\n",
       "<tr><th class=\"right\" csk=\"13\" data-stat=\"ranker\" scope=\"row\">13</th><td class=\"left\" data-stat=\"team_name\"><a href=\"/contracts/CHI.html\">Chicago Bulls</a></td><td class=\"right\" csk=\"142023874\" data-stat=\"y1\">$142,023,874</td><td class=\"right\" csk=\"101811969\" data-stat=\"y2\">$101,811,969</td><td class=\"right\" csk=\"73620455\" data-stat=\"y3\">$73,620,455</td><td class=\"right\" csk=\"51373585\" data-stat=\"y4\">$51,373,585</td><td class=\"right iz\" data-stat=\"y5\"></td><td class=\"right iz\" data-stat=\"y6\"></td></tr>\n",
       "<tr><th class=\"right\" csk=\"14\" data-stat=\"ranker\" scope=\"row\">14</th><td class=\"left\" data-stat=\"team_name\"><a href=\"/contracts/NYK.html\">New York Knicks</a></td><td class=\"right\" csk=\"141906737\" data-stat=\"y1\">$141,906,737</td><td class=\"right\" csk=\"118023452\" data-stat=\"y2\">$118,023,452</td><td class=\"right\" csk=\"95082304\" data-stat=\"y3\">$95,082,304</td><td class=\"right\" csk=\"29616071\" data-stat=\"y4\">$29,616,071</td><td class=\"right iz\" data-stat=\"y5\"></td><td class=\"right iz\" data-stat=\"y6\"></td></tr>\n",
       "<tr><th class=\"right\" csk=\"15\" data-stat=\"ranker\" scope=\"row\">15</th><td class=\"left\" data-stat=\"team_name\"><a href=\"/contracts/DET.html\">Detroit Pistons</a></td><td class=\"right\" csk=\"135824008\" data-stat=\"y1\">$135,824,008</td><td class=\"right\" csk=\"71985486\" data-stat=\"y2\">$71,985,486</td><td class=\"right\" csk=\"28252027\" data-stat=\"y3\">$28,252,027</td><td class=\"right\" csk=\"16316908\" data-stat=\"y4\">$16,316,908</td><td class=\"right iz\" data-stat=\"y5\"></td><td class=\"right iz\" data-stat=\"y6\"></td></tr>\n",
       "<tr><th class=\"right\" csk=\"16\" data-stat=\"ranker\" scope=\"row\">16</th><td class=\"left\" data-stat=\"team_name\"><a href=\"/contracts/POR.html\">Portland Trail Blazers</a></td><td class=\"right\" csk=\"126701092\" data-stat=\"y1\">$126,701,092</td><td class=\"right\" csk=\"131361370\" data-stat=\"y2\">$131,361,370</td><td class=\"right\" csk=\"137618514\" data-stat=\"y3\">$137,618,514</td><td class=\"right\" csk=\"90147387\" data-stat=\"y4\">$90,147,387</td><td class=\"right\" csk=\"268032\" data-stat=\"y5\">$268,032</td><td class=\"right\" csk=\"268032\" data-stat=\"y6\">$268,032</td></tr>\n",
       "<tr><th class=\"right\" csk=\"17\" data-stat=\"ranker\" scope=\"row\">17</th><td class=\"left\" data-stat=\"team_name\"><a href=\"/contracts/TOR.html\">Toronto Raptors</a></td><td class=\"right\" csk=\"123889081\" data-stat=\"y1\">$123,889,081</td><td class=\"right\" csk=\"47653010\" data-stat=\"y2\">$47,653,010</td><td class=\"right\" csk=\"4990560\" data-stat=\"y3\">$4,990,560</td><td class=\"right\" csk=\"7131511\" data-stat=\"y4\">$7,131,511</td><td class=\"right iz\" data-stat=\"y5\"></td><td class=\"right iz\" data-stat=\"y6\"></td></tr>\n",
       "<tr><th class=\"right\" csk=\"18\" data-stat=\"ranker\" scope=\"row\">18</th><td class=\"left\" data-stat=\"team_name\"><a href=\"/contracts/BRK.html\">Brooklyn Nets</a></td><td class=\"right\" csk=\"122638319\" data-stat=\"y1\">$122,638,319</td><td class=\"right\" csk=\"92951002\" data-stat=\"y2\">$92,951,002</td><td class=\"right\" csk=\"46939680\" data-stat=\"y3\">$46,939,680</td><td class=\"right\" csk=\"10780946\" data-stat=\"y4\">$10,780,946</td><td class=\"right iz\" data-stat=\"y5\"></td><td class=\"right iz\" data-stat=\"y6\"></td></tr>\n",
       "<tr><th class=\"right\" csk=\"19\" data-stat=\"ranker\" scope=\"row\">19</th><td class=\"left\" data-stat=\"team_name\"><a href=\"/contracts/CLE.html\">Cleveland Cavaliers</a></td><td class=\"right\" csk=\"120905587\" data-stat=\"y1\">$120,905,587</td><td class=\"right\" csk=\"117588652\" data-stat=\"y2\">$117,588,652</td><td class=\"right\" csk=\"102580076\" data-stat=\"y3\">$102,580,076</td><td class=\"right\" csk=\"41540000\" data-stat=\"y4\">$41,540,000</td><td class=\"right\" csk=\"44220000\" data-stat=\"y5\">$44,220,000</td><td class=\"right iz\" data-stat=\"y6\"></td></tr>\n",
       "<tr><th class=\"right\" csk=\"20\" data-stat=\"ranker\" scope=\"row\">20</th><td class=\"left\" data-stat=\"team_name\"><a href=\"/contracts/SAS.html\">San Antonio Spurs</a></td><td class=\"right\" csk=\"120527101\" data-stat=\"y1\">$120,527,101</td><td class=\"right\" csk=\"58331200\" data-stat=\"y2\">$58,331,200</td><td class=\"right\" csk=\"50161472\" data-stat=\"y3\">$50,161,472</td><td class=\"right\" csk=\"34368246\" data-stat=\"y4\">$34,368,246</td><td class=\"right iz\" data-stat=\"y5\"></td><td class=\"right iz\" data-stat=\"y6\"></td></tr>\n",
       "<tr><th class=\"right\" csk=\"21\" data-stat=\"ranker\" scope=\"row\">21</th><td class=\"left\" data-stat=\"team_name\"><a href=\"/contracts/SAC.html\">Sacramento Kings</a></td><td class=\"right\" csk=\"118760175\" data-stat=\"y1\">$118,760,175</td><td class=\"right\" csk=\"92953795\" data-stat=\"y2\">$92,953,795</td><td class=\"right\" csk=\"87453461\" data-stat=\"y3\">$87,453,461</td><td class=\"right\" csk=\"2406205\" data-stat=\"y4\">$2,406,205</td><td class=\"right iz\" data-stat=\"y5\"></td><td class=\"right iz\" data-stat=\"y6\"></td></tr>\n",
       "<tr><th class=\"right\" csk=\"22\" data-stat=\"ranker\" scope=\"row\">22</th><td class=\"left\" data-stat=\"team_name\"><a href=\"/contracts/ORL.html\">Orlando Magic</a></td><td class=\"right\" csk=\"117012611\" data-stat=\"y1\">$117,012,611</td><td class=\"right\" csk=\"72612056\" data-stat=\"y2\">$72,612,056</td><td class=\"right\" csk=\"41872468\" data-stat=\"y3\">$41,872,468</td><td class=\"right\" csk=\"17444255\" data-stat=\"y4\">$17,444,255</td><td class=\"right iz\" data-stat=\"y5\"></td><td class=\"right iz\" data-stat=\"y6\"></td></tr>\n",
       "<tr><th class=\"right\" csk=\"23\" data-stat=\"ranker\" scope=\"row\">23</th><td class=\"left\" data-stat=\"team_name\"><a href=\"/contracts/MIL.html\">Milwaukee Bucks</a></td><td class=\"right\" csk=\"114042918\" data-stat=\"y1\">$114,042,918</td><td class=\"right\" csk=\"112176005\" data-stat=\"y2\">$112,176,005</td><td class=\"right\" csk=\"79586167\" data-stat=\"y3\">$79,586,167</td><td class=\"right iz\" data-stat=\"y4\"></td><td class=\"right iz\" data-stat=\"y5\"></td><td class=\"right iz\" data-stat=\"y6\"></td></tr>\n",
       "<tr><th class=\"right\" csk=\"24\" data-stat=\"ranker\" scope=\"row\">24</th><td class=\"left\" data-stat=\"team_name\"><a href=\"/contracts/WAS.html\">Washington Wizards</a></td><td class=\"right\" csk=\"113280423\" data-stat=\"y1\">$113,280,423</td><td class=\"right\" csk=\"79726471\" data-stat=\"y2\">$79,726,471</td><td class=\"right\" csk=\"79863971\" data-stat=\"y3\">$79,863,971</td><td class=\"right\" csk=\"44534654\" data-stat=\"y4\">$44,534,654</td><td class=\"right iz\" data-stat=\"y5\"></td><td class=\"right iz\" data-stat=\"y6\"></td></tr>\n",
       "<tr><th class=\"right\" csk=\"25\" data-stat=\"ranker\" scope=\"row\">25</th><td class=\"left\" data-stat=\"team_name\"><a href=\"/contracts/IND.html\">Indiana Pacers</a></td><td class=\"right\" csk=\"106527408\" data-stat=\"y1\">$106,527,408</td><td class=\"right\" csk=\"68729246\" data-stat=\"y2\">$68,729,246</td><td class=\"right\" csk=\"20831264\" data-stat=\"y3\">$20,831,264</td><td class=\"right\" csk=\"13510211\" data-stat=\"y4\">$13,510,211</td><td class=\"right iz\" data-stat=\"y5\"></td><td class=\"right iz\" data-stat=\"y6\"></td></tr>\n",
       "<tr><th class=\"right\" csk=\"26\" data-stat=\"ranker\" scope=\"row\">26</th><td class=\"left\" data-stat=\"team_name\"><a href=\"/contracts/LAL.html\">Los Angeles Lakers</a></td><td class=\"right\" csk=\"104082970\" data-stat=\"y1\">$104,082,970</td><td class=\"right\" csk=\"104738865\" data-stat=\"y2\">$104,738,865</td><td class=\"right\" csk=\"4064640\" data-stat=\"y3\">$4,064,640</td><td class=\"right\" csk=\"6243288\" data-stat=\"y4\">$6,243,288</td><td class=\"right iz\" data-stat=\"y5\"></td><td class=\"right iz\" data-stat=\"y6\"></td></tr>\n",
       "<tr><th class=\"right\" csk=\"27\" data-stat=\"ranker\" scope=\"row\">27</th><td class=\"left\" data-stat=\"team_name\"><a href=\"/contracts/CHO.html\">Charlotte Hornets</a></td><td class=\"right\" csk=\"101592296\" data-stat=\"y1\">$101,592,296</td><td class=\"right\" csk=\"65916734\" data-stat=\"y2\">$65,916,734</td><td class=\"right\" csk=\"58466493\" data-stat=\"y3\">$58,466,493</td><td class=\"right\" csk=\"19994693\" data-stat=\"y4\">$19,994,693</td><td class=\"right iz\" data-stat=\"y5\"></td><td class=\"right iz\" data-stat=\"y6\"></td></tr>\n",
       "<tr><th class=\"right\" csk=\"28\" data-stat=\"ranker\" scope=\"row\">28</th><td class=\"left\" data-stat=\"team_name\"><a href=\"/contracts/DAL.html\">Dallas Mavericks</a></td><td class=\"right\" csk=\"100736811\" data-stat=\"y1\">$100,736,811</td><td class=\"right\" csk=\"99013903\" data-stat=\"y2\">$99,013,903</td><td class=\"right\" csk=\"65260100\" data-stat=\"y3\">$65,260,100</td><td class=\"right\" csk=\"61465894\" data-stat=\"y4\">$61,465,894</td><td class=\"right iz\" data-stat=\"y5\"></td><td class=\"right iz\" data-stat=\"y6\"></td></tr>\n",
       "<tr><th class=\"right\" csk=\"29\" data-stat=\"ranker\" scope=\"row\">29</th><td class=\"left\" data-stat=\"team_name\"><a href=\"/contracts/UTA.html\">Utah Jazz</a></td><td class=\"right\" csk=\"96545338\" data-stat=\"y1\">$96,545,338</td><td class=\"right\" csk=\"55975104\" data-stat=\"y2\">$55,975,104</td><td class=\"right\" csk=\"43337263\" data-stat=\"y3\">$43,337,263</td><td class=\"right\" csk=\"19232062\" data-stat=\"y4\">$19,232,062</td><td class=\"right iz\" data-stat=\"y5\"></td><td class=\"right iz\" data-stat=\"y6\"></td></tr>\n",
       "<tr><th class=\"right\" csk=\"30\" data-stat=\"ranker\" scope=\"row\">30</th><td class=\"left\" data-stat=\"team_name\"><a href=\"/contracts/HOU.html\">Houston Rockets</a></td><td class=\"right\" csk=\"69850870\" data-stat=\"y1\">$69,850,870</td><td class=\"right\" csk=\"69306999\" data-stat=\"y2\">$69,306,999</td><td class=\"right\" csk=\"49495518\" data-stat=\"y3\">$49,495,518</td><td class=\"right\" csk=\"35955919\" data-stat=\"y4\">$35,955,919</td><td class=\"right iz\" data-stat=\"y5\"></td><td class=\"right iz\" data-stat=\"y6\"></td></tr>\n",
       "</tbody></table>"
      ]
     },
     "execution_count": 8,
     "metadata": {},
     "output_type": "execute_result"
    }
   ],
   "source": [
    "salaries"
   ]
  },
  {
   "cell_type": "code",
   "execution_count": 19,
   "id": "599285b1",
   "metadata": {},
   "outputs": [],
   "source": [
    "# getting column names for table\n",
    "titles = salaries.find_all('th')[2:10]"
   ]
  },
  {
   "cell_type": "code",
   "execution_count": 20,
   "id": "33fd0b87",
   "metadata": {},
   "outputs": [
    {
     "data": {
      "text/plain": [
       "[<th aria-label=\"Rk\" class=\"ranker poptip sort_default_asc show_partial_when_sorting right\" data-stat=\"ranker\" data-tip=\"Rank\" scope=\"col\">Rk</th>,\n",
       " <th aria-label=\"Team\" class=\"poptip sort_default_asc left\" data-stat=\"team_name\" scope=\"col\">Team</th>,\n",
       " <th aria-label=\"2023-24\" class=\"poptip center\" data-over-header=\"Salary\" data-stat=\"y1\" scope=\"col\">2023-24</th>,\n",
       " <th aria-label=\"2024-25\" class=\"poptip center\" data-over-header=\"Salary\" data-stat=\"y2\" scope=\"col\">2024-25</th>,\n",
       " <th aria-label=\"2025-26\" class=\"poptip center\" data-over-header=\"Salary\" data-stat=\"y3\" scope=\"col\">2025-26</th>,\n",
       " <th aria-label=\"2026-27\" class=\"poptip center\" data-over-header=\"Salary\" data-stat=\"y4\" scope=\"col\">2026-27</th>,\n",
       " <th aria-label=\"2027-28\" class=\"poptip center\" data-over-header=\"Salary\" data-stat=\"y5\" scope=\"col\">2027-28</th>,\n",
       " <th aria-label=\"2028-29\" class=\"poptip center\" data-over-header=\"Salary\" data-stat=\"y6\" scope=\"col\">2028-29</th>]"
      ]
     },
     "execution_count": 20,
     "metadata": {},
     "output_type": "execute_result"
    }
   ],
   "source": [
    "titles"
   ]
  },
  {
   "cell_type": "code",
   "execution_count": 21,
   "id": "e0b7f6a4",
   "metadata": {},
   "outputs": [],
   "source": [
    "titles_text = [t.text.strip() for t in titles] # cleaning column names"
   ]
  },
  {
   "cell_type": "code",
   "execution_count": 22,
   "id": "254b05f0",
   "metadata": {},
   "outputs": [
    {
     "data": {
      "text/plain": [
       "['Rk',\n",
       " 'Team',\n",
       " '2023-24',\n",
       " '2024-25',\n",
       " '2025-26',\n",
       " '2026-27',\n",
       " '2027-28',\n",
       " '2028-29']"
      ]
     },
     "execution_count": 22,
     "metadata": {},
     "output_type": "execute_result"
    }
   ],
   "source": [
    "titles_text"
   ]
  },
  {
   "cell_type": "markdown",
   "id": "62eea25d",
   "metadata": {},
   "source": [
    "### Step 2: Move data into a Pandas dataframe"
   ]
  },
  {
   "cell_type": "code",
   "execution_count": 50,
   "id": "0256ddec",
   "metadata": {},
   "outputs": [],
   "source": [
    "df = pd.DataFrame(columns = titles_text)"
   ]
  },
  {
   "cell_type": "code",
   "execution_count": 51,
   "id": "38c3a5a9",
   "metadata": {},
   "outputs": [
    {
     "data": {
      "text/html": [
       "<div>\n",
       "<style scoped>\n",
       "    .dataframe tbody tr th:only-of-type {\n",
       "        vertical-align: middle;\n",
       "    }\n",
       "\n",
       "    .dataframe tbody tr th {\n",
       "        vertical-align: top;\n",
       "    }\n",
       "\n",
       "    .dataframe thead th {\n",
       "        text-align: right;\n",
       "    }\n",
       "</style>\n",
       "<table border=\"1\" class=\"dataframe\">\n",
       "  <thead>\n",
       "    <tr style=\"text-align: right;\">\n",
       "      <th></th>\n",
       "      <th>Rk</th>\n",
       "      <th>Team</th>\n",
       "      <th>2023-24</th>\n",
       "      <th>2024-25</th>\n",
       "      <th>2025-26</th>\n",
       "      <th>2026-27</th>\n",
       "      <th>2027-28</th>\n",
       "      <th>2028-29</th>\n",
       "    </tr>\n",
       "  </thead>\n",
       "  <tbody>\n",
       "  </tbody>\n",
       "</table>\n",
       "</div>"
      ],
      "text/plain": [
       "Empty DataFrame\n",
       "Columns: [Rk, Team, 2023-24, 2024-25, 2025-26, 2026-27, 2027-28, 2028-29]\n",
       "Index: []"
      ]
     },
     "execution_count": 51,
     "metadata": {},
     "output_type": "execute_result"
    }
   ],
   "source": [
    "df"
   ]
  },
  {
   "cell_type": "code",
   "execution_count": 52,
   "id": "8082d7d8",
   "metadata": {},
   "outputs": [],
   "source": [
    "column_data = salaries.find_all('tr')[2:]"
   ]
  },
  {
   "cell_type": "code",
   "execution_count": 53,
   "id": "66136703",
   "metadata": {},
   "outputs": [
    {
     "data": {
      "text/plain": [
       "[<tr><th class=\"right\" csk=\"1\" data-stat=\"ranker\" scope=\"row\">1</th><td class=\"left\" data-stat=\"team_name\"><a href=\"/contracts/LAC.html\">Los Angeles Clippers</a></td><td class=\"right\" csk=\"185299089\" data-stat=\"y1\">$185,299,089</td><td class=\"right\" csk=\"150613648\" data-stat=\"y2\">$150,613,648</td><td class=\"right\" csk=\"23137638\" data-stat=\"y3\">$23,137,638</td><td class=\"right\" csk=\"4792059\" data-stat=\"y4\">$4,792,059</td><td class=\"right iz\" data-stat=\"y5\"></td><td class=\"right iz\" data-stat=\"y6\"></td></tr>,\n",
       " <tr><th class=\"right\" csk=\"2\" data-stat=\"ranker\" scope=\"row\">2</th><td class=\"left\" data-stat=\"team_name\"><a href=\"/contracts/ATL.html\">Atlanta Hawks</a></td><td class=\"right\" csk=\"181282107\" data-stat=\"y1\">$181,282,107</td><td class=\"right\" csk=\"135101573\" data-stat=\"y2\">$135,101,573</td><td class=\"right\" csk=\"111429025\" data-stat=\"y3\">$111,429,025</td><td class=\"right\" csk=\"83188502\" data-stat=\"y4\">$83,188,502</td><td class=\"right iz\" data-stat=\"y5\"></td><td class=\"right iz\" data-stat=\"y6\"></td></tr>,\n",
       " <tr><th class=\"right\" csk=\"3\" data-stat=\"ranker\" scope=\"row\">3</th><td class=\"left\" data-stat=\"team_name\"><a href=\"/contracts/GSW.html\">Golden State Warriors</a></td><td class=\"right\" csk=\"180764172\" data-stat=\"y1\">$180,764,172</td><td class=\"right\" csk=\"147127538\" data-stat=\"y2\">$147,127,538</td><td class=\"right\" csk=\"91517992\" data-stat=\"y3\">$91,517,992</td><td class=\"right\" csk=\"35849103\" data-stat=\"y4\">$35,849,103</td><td class=\"right iz\" data-stat=\"y5\"></td><td class=\"right iz\" data-stat=\"y6\"></td></tr>,\n",
       " <tr><th class=\"right\" csk=\"4\" data-stat=\"ranker\" scope=\"row\">4</th><td class=\"left\" data-stat=\"team_name\"><a href=\"/contracts/BOS.html\">Boston Celtics</a></td><td class=\"right\" csk=\"171350016\" data-stat=\"y1\">$171,350,016</td><td class=\"right\" csk=\"102841470\" data-stat=\"y2\">$102,841,470</td><td class=\"right\" csk=\"52880796\" data-stat=\"y3\">$52,880,796</td><td class=\"right\" csk=\"2406205\" data-stat=\"y4\">$2,406,205</td><td class=\"right iz\" data-stat=\"y5\"></td><td class=\"right iz\" data-stat=\"y6\"></td></tr>,\n",
       " <tr><th class=\"right\" csk=\"5\" data-stat=\"ranker\" scope=\"row\">5</th><td class=\"left\" data-stat=\"team_name\"><a href=\"/contracts/MIA.html\">Miami Heat</a></td><td class=\"right\" csk=\"167188247\" data-stat=\"y1\">$167,188,247</td><td class=\"right\" csk=\"145329917\" data-stat=\"y2\">$145,329,917</td><td class=\"right\" csk=\"148705031\" data-stat=\"y3\">$148,705,031</td><td class=\"right\" csk=\"38939141\" data-stat=\"y4\">$38,939,141</td><td class=\"right iz\" data-stat=\"y5\"></td><td class=\"right iz\" data-stat=\"y6\"></td></tr>,\n",
       " <tr><th class=\"right\" csk=\"6\" data-stat=\"ranker\" scope=\"row\">6</th><td class=\"left\" data-stat=\"team_name\"><a href=\"/contracts/PHO.html\">Phoenix Suns</a></td><td class=\"right\" csk=\"166722453\" data-stat=\"y1\">$166,722,453</td><td class=\"right\" csk=\"186725421\" data-stat=\"y2\">$186,725,421</td><td class=\"right\" csk=\"197110293\" data-stat=\"y3\">$197,110,293</td><td class=\"right\" csk=\"114252810\" data-stat=\"y4\">$114,252,810</td><td class=\"right\" csk=\"61063800\" data-stat=\"y5\">$61,063,800</td><td class=\"right iz\" data-stat=\"y6\"></td></tr>,\n",
       " <tr><th class=\"right\" csk=\"7\" data-stat=\"ranker\" scope=\"row\">7</th><td class=\"left\" data-stat=\"team_name\"><a href=\"/contracts/DEN.html\">Denver Nuggets</a></td><td class=\"right\" csk=\"164315730\" data-stat=\"y1\">$164,315,730</td><td class=\"right\" csk=\"171212116\" data-stat=\"y2\">$171,212,116</td><td class=\"right\" csk=\"127530978\" data-stat=\"y3\">$127,530,978</td><td class=\"right\" csk=\"103789081\" data-stat=\"y4\">$103,789,081</td><td class=\"right\" csk=\"61908000\" data-stat=\"y5\">$61,908,000</td><td class=\"right iz\" data-stat=\"y6\"></td></tr>,\n",
       " <tr><th class=\"right\" csk=\"8\" data-stat=\"ranker\" scope=\"row\">8</th><td class=\"left\" data-stat=\"team_name\"><a href=\"/contracts/PHI.html\">Philadelphia 76ers</a></td><td class=\"right\" csk=\"164159456\" data-stat=\"y1\">$164,159,456</td><td class=\"right\" csk=\"66209363\" data-stat=\"y2\">$66,209,363</td><td class=\"right\" csk=\"54404000\" data-stat=\"y3\">$54,404,000</td><td class=\"right\" csk=\"58156000\" data-stat=\"y4\">$58,156,000</td><td class=\"right iz\" data-stat=\"y5\"></td><td class=\"right iz\" data-stat=\"y6\"></td></tr>,\n",
       " <tr><th class=\"right\" csk=\"9\" data-stat=\"ranker\" scope=\"row\">9</th><td class=\"left\" data-stat=\"team_name\"><a href=\"/contracts/NOP.html\">New Orleans Pelicans</a></td><td class=\"right\" csk=\"154448264\" data-stat=\"y1\">$154,448,264</td><td class=\"right\" csk=\"134468185\" data-stat=\"y2\">$134,468,185</td><td class=\"right\" csk=\"81975695\" data-stat=\"y3\">$81,975,695</td><td class=\"right\" csk=\"48561895\" data-stat=\"y4\">$48,561,895</td><td class=\"right\" csk=\"44220000\" data-stat=\"y5\">$44,220,000</td><td class=\"right iz\" data-stat=\"y6\"></td></tr>,\n",
       " <tr><th class=\"right\" csk=\"10\" data-stat=\"ranker\" scope=\"row\">10</th><td class=\"left\" data-stat=\"team_name\"><a href=\"/contracts/MIN.html\">Minnesota Timberwolves</a></td><td class=\"right\" csk=\"149441150\" data-stat=\"y1\">$149,441,150</td><td class=\"right\" csk=\"111615757\" data-stat=\"y2\">$111,615,757</td><td class=\"right\" csk=\"121623970\" data-stat=\"y3\">$121,623,970</td><td class=\"right\" csk=\"57124200\" data-stat=\"y4\">$57,124,200</td><td class=\"right\" csk=\"61063800\" data-stat=\"y5\">$61,063,800</td><td class=\"right iz\" data-stat=\"y6\"></td></tr>,\n",
       " <tr><th class=\"right\" csk=\"11\" data-stat=\"ranker\" scope=\"row\">11</th><td class=\"left\" data-stat=\"team_name\"><a href=\"/contracts/MEM.html\">Memphis Grizzlies</a></td><td class=\"right\" csk=\"146843762\" data-stat=\"y1\">$146,843,762</td><td class=\"right\" csk=\"152729813\" data-stat=\"y2\">$152,729,813</td><td class=\"right\" csk=\"112270143\" data-stat=\"y3\">$112,270,143</td><td class=\"right\" csk=\"60205000\" data-stat=\"y4\">$60,205,000</td><td class=\"right\" csk=\"44220000\" data-stat=\"y5\">$44,220,000</td><td class=\"right iz\" data-stat=\"y6\"></td></tr>,\n",
       " <tr><th class=\"right\" csk=\"12\" data-stat=\"ranker\" scope=\"row\">12</th><td class=\"left\" data-stat=\"team_name\"><a href=\"/contracts/OKC.html\">Oklahoma City Thunder</a></td><td class=\"right\" csk=\"142161291\" data-stat=\"y1\">$142,161,291</td><td class=\"right\" csk=\"129514493\" data-stat=\"y2\">$129,514,493</td><td class=\"right\" csk=\"102597309\" data-stat=\"y3\">$102,597,309</td><td class=\"right\" csk=\"73112178\" data-stat=\"y4\">$73,112,178</td><td class=\"right iz\" data-stat=\"y5\"></td><td class=\"right iz\" data-stat=\"y6\"></td></tr>,\n",
       " <tr><th class=\"right\" csk=\"13\" data-stat=\"ranker\" scope=\"row\">13</th><td class=\"left\" data-stat=\"team_name\"><a href=\"/contracts/CHI.html\">Chicago Bulls</a></td><td class=\"right\" csk=\"142023874\" data-stat=\"y1\">$142,023,874</td><td class=\"right\" csk=\"101811969\" data-stat=\"y2\">$101,811,969</td><td class=\"right\" csk=\"73620455\" data-stat=\"y3\">$73,620,455</td><td class=\"right\" csk=\"51373585\" data-stat=\"y4\">$51,373,585</td><td class=\"right iz\" data-stat=\"y5\"></td><td class=\"right iz\" data-stat=\"y6\"></td></tr>,\n",
       " <tr><th class=\"right\" csk=\"14\" data-stat=\"ranker\" scope=\"row\">14</th><td class=\"left\" data-stat=\"team_name\"><a href=\"/contracts/NYK.html\">New York Knicks</a></td><td class=\"right\" csk=\"141906737\" data-stat=\"y1\">$141,906,737</td><td class=\"right\" csk=\"118023452\" data-stat=\"y2\">$118,023,452</td><td class=\"right\" csk=\"95082304\" data-stat=\"y3\">$95,082,304</td><td class=\"right\" csk=\"29616071\" data-stat=\"y4\">$29,616,071</td><td class=\"right iz\" data-stat=\"y5\"></td><td class=\"right iz\" data-stat=\"y6\"></td></tr>,\n",
       " <tr><th class=\"right\" csk=\"15\" data-stat=\"ranker\" scope=\"row\">15</th><td class=\"left\" data-stat=\"team_name\"><a href=\"/contracts/DET.html\">Detroit Pistons</a></td><td class=\"right\" csk=\"135824008\" data-stat=\"y1\">$135,824,008</td><td class=\"right\" csk=\"71985486\" data-stat=\"y2\">$71,985,486</td><td class=\"right\" csk=\"28252027\" data-stat=\"y3\">$28,252,027</td><td class=\"right\" csk=\"16316908\" data-stat=\"y4\">$16,316,908</td><td class=\"right iz\" data-stat=\"y5\"></td><td class=\"right iz\" data-stat=\"y6\"></td></tr>,\n",
       " <tr><th class=\"right\" csk=\"16\" data-stat=\"ranker\" scope=\"row\">16</th><td class=\"left\" data-stat=\"team_name\"><a href=\"/contracts/POR.html\">Portland Trail Blazers</a></td><td class=\"right\" csk=\"126701092\" data-stat=\"y1\">$126,701,092</td><td class=\"right\" csk=\"131361370\" data-stat=\"y2\">$131,361,370</td><td class=\"right\" csk=\"137618514\" data-stat=\"y3\">$137,618,514</td><td class=\"right\" csk=\"90147387\" data-stat=\"y4\">$90,147,387</td><td class=\"right\" csk=\"268032\" data-stat=\"y5\">$268,032</td><td class=\"right\" csk=\"268032\" data-stat=\"y6\">$268,032</td></tr>,\n",
       " <tr><th class=\"right\" csk=\"17\" data-stat=\"ranker\" scope=\"row\">17</th><td class=\"left\" data-stat=\"team_name\"><a href=\"/contracts/TOR.html\">Toronto Raptors</a></td><td class=\"right\" csk=\"123889081\" data-stat=\"y1\">$123,889,081</td><td class=\"right\" csk=\"47653010\" data-stat=\"y2\">$47,653,010</td><td class=\"right\" csk=\"4990560\" data-stat=\"y3\">$4,990,560</td><td class=\"right\" csk=\"7131511\" data-stat=\"y4\">$7,131,511</td><td class=\"right iz\" data-stat=\"y5\"></td><td class=\"right iz\" data-stat=\"y6\"></td></tr>,\n",
       " <tr><th class=\"right\" csk=\"18\" data-stat=\"ranker\" scope=\"row\">18</th><td class=\"left\" data-stat=\"team_name\"><a href=\"/contracts/BRK.html\">Brooklyn Nets</a></td><td class=\"right\" csk=\"122638319\" data-stat=\"y1\">$122,638,319</td><td class=\"right\" csk=\"92951002\" data-stat=\"y2\">$92,951,002</td><td class=\"right\" csk=\"46939680\" data-stat=\"y3\">$46,939,680</td><td class=\"right\" csk=\"10780946\" data-stat=\"y4\">$10,780,946</td><td class=\"right iz\" data-stat=\"y5\"></td><td class=\"right iz\" data-stat=\"y6\"></td></tr>,\n",
       " <tr><th class=\"right\" csk=\"19\" data-stat=\"ranker\" scope=\"row\">19</th><td class=\"left\" data-stat=\"team_name\"><a href=\"/contracts/CLE.html\">Cleveland Cavaliers</a></td><td class=\"right\" csk=\"120905587\" data-stat=\"y1\">$120,905,587</td><td class=\"right\" csk=\"117588652\" data-stat=\"y2\">$117,588,652</td><td class=\"right\" csk=\"102580076\" data-stat=\"y3\">$102,580,076</td><td class=\"right\" csk=\"41540000\" data-stat=\"y4\">$41,540,000</td><td class=\"right\" csk=\"44220000\" data-stat=\"y5\">$44,220,000</td><td class=\"right iz\" data-stat=\"y6\"></td></tr>,\n",
       " <tr><th class=\"right\" csk=\"20\" data-stat=\"ranker\" scope=\"row\">20</th><td class=\"left\" data-stat=\"team_name\"><a href=\"/contracts/SAS.html\">San Antonio Spurs</a></td><td class=\"right\" csk=\"120527101\" data-stat=\"y1\">$120,527,101</td><td class=\"right\" csk=\"58331200\" data-stat=\"y2\">$58,331,200</td><td class=\"right\" csk=\"50161472\" data-stat=\"y3\">$50,161,472</td><td class=\"right\" csk=\"34368246\" data-stat=\"y4\">$34,368,246</td><td class=\"right iz\" data-stat=\"y5\"></td><td class=\"right iz\" data-stat=\"y6\"></td></tr>,\n",
       " <tr><th class=\"right\" csk=\"21\" data-stat=\"ranker\" scope=\"row\">21</th><td class=\"left\" data-stat=\"team_name\"><a href=\"/contracts/SAC.html\">Sacramento Kings</a></td><td class=\"right\" csk=\"118760175\" data-stat=\"y1\">$118,760,175</td><td class=\"right\" csk=\"92953795\" data-stat=\"y2\">$92,953,795</td><td class=\"right\" csk=\"87453461\" data-stat=\"y3\">$87,453,461</td><td class=\"right\" csk=\"2406205\" data-stat=\"y4\">$2,406,205</td><td class=\"right iz\" data-stat=\"y5\"></td><td class=\"right iz\" data-stat=\"y6\"></td></tr>,\n",
       " <tr><th class=\"right\" csk=\"22\" data-stat=\"ranker\" scope=\"row\">22</th><td class=\"left\" data-stat=\"team_name\"><a href=\"/contracts/ORL.html\">Orlando Magic</a></td><td class=\"right\" csk=\"117012611\" data-stat=\"y1\">$117,012,611</td><td class=\"right\" csk=\"72612056\" data-stat=\"y2\">$72,612,056</td><td class=\"right\" csk=\"41872468\" data-stat=\"y3\">$41,872,468</td><td class=\"right\" csk=\"17444255\" data-stat=\"y4\">$17,444,255</td><td class=\"right iz\" data-stat=\"y5\"></td><td class=\"right iz\" data-stat=\"y6\"></td></tr>,\n",
       " <tr><th class=\"right\" csk=\"23\" data-stat=\"ranker\" scope=\"row\">23</th><td class=\"left\" data-stat=\"team_name\"><a href=\"/contracts/MIL.html\">Milwaukee Bucks</a></td><td class=\"right\" csk=\"114042918\" data-stat=\"y1\">$114,042,918</td><td class=\"right\" csk=\"112176005\" data-stat=\"y2\">$112,176,005</td><td class=\"right\" csk=\"79586167\" data-stat=\"y3\">$79,586,167</td><td class=\"right iz\" data-stat=\"y4\"></td><td class=\"right iz\" data-stat=\"y5\"></td><td class=\"right iz\" data-stat=\"y6\"></td></tr>,\n",
       " <tr><th class=\"right\" csk=\"24\" data-stat=\"ranker\" scope=\"row\">24</th><td class=\"left\" data-stat=\"team_name\"><a href=\"/contracts/WAS.html\">Washington Wizards</a></td><td class=\"right\" csk=\"113280423\" data-stat=\"y1\">$113,280,423</td><td class=\"right\" csk=\"79726471\" data-stat=\"y2\">$79,726,471</td><td class=\"right\" csk=\"79863971\" data-stat=\"y3\">$79,863,971</td><td class=\"right\" csk=\"44534654\" data-stat=\"y4\">$44,534,654</td><td class=\"right iz\" data-stat=\"y5\"></td><td class=\"right iz\" data-stat=\"y6\"></td></tr>,\n",
       " <tr><th class=\"right\" csk=\"25\" data-stat=\"ranker\" scope=\"row\">25</th><td class=\"left\" data-stat=\"team_name\"><a href=\"/contracts/IND.html\">Indiana Pacers</a></td><td class=\"right\" csk=\"106527408\" data-stat=\"y1\">$106,527,408</td><td class=\"right\" csk=\"68729246\" data-stat=\"y2\">$68,729,246</td><td class=\"right\" csk=\"20831264\" data-stat=\"y3\">$20,831,264</td><td class=\"right\" csk=\"13510211\" data-stat=\"y4\">$13,510,211</td><td class=\"right iz\" data-stat=\"y5\"></td><td class=\"right iz\" data-stat=\"y6\"></td></tr>,\n",
       " <tr><th class=\"right\" csk=\"26\" data-stat=\"ranker\" scope=\"row\">26</th><td class=\"left\" data-stat=\"team_name\"><a href=\"/contracts/LAL.html\">Los Angeles Lakers</a></td><td class=\"right\" csk=\"104082970\" data-stat=\"y1\">$104,082,970</td><td class=\"right\" csk=\"104738865\" data-stat=\"y2\">$104,738,865</td><td class=\"right\" csk=\"4064640\" data-stat=\"y3\">$4,064,640</td><td class=\"right\" csk=\"6243288\" data-stat=\"y4\">$6,243,288</td><td class=\"right iz\" data-stat=\"y5\"></td><td class=\"right iz\" data-stat=\"y6\"></td></tr>,\n",
       " <tr><th class=\"right\" csk=\"27\" data-stat=\"ranker\" scope=\"row\">27</th><td class=\"left\" data-stat=\"team_name\"><a href=\"/contracts/CHO.html\">Charlotte Hornets</a></td><td class=\"right\" csk=\"101592296\" data-stat=\"y1\">$101,592,296</td><td class=\"right\" csk=\"65916734\" data-stat=\"y2\">$65,916,734</td><td class=\"right\" csk=\"58466493\" data-stat=\"y3\">$58,466,493</td><td class=\"right\" csk=\"19994693\" data-stat=\"y4\">$19,994,693</td><td class=\"right iz\" data-stat=\"y5\"></td><td class=\"right iz\" data-stat=\"y6\"></td></tr>,\n",
       " <tr><th class=\"right\" csk=\"28\" data-stat=\"ranker\" scope=\"row\">28</th><td class=\"left\" data-stat=\"team_name\"><a href=\"/contracts/DAL.html\">Dallas Mavericks</a></td><td class=\"right\" csk=\"100736811\" data-stat=\"y1\">$100,736,811</td><td class=\"right\" csk=\"99013903\" data-stat=\"y2\">$99,013,903</td><td class=\"right\" csk=\"65260100\" data-stat=\"y3\">$65,260,100</td><td class=\"right\" csk=\"61465894\" data-stat=\"y4\">$61,465,894</td><td class=\"right iz\" data-stat=\"y5\"></td><td class=\"right iz\" data-stat=\"y6\"></td></tr>,\n",
       " <tr><th class=\"right\" csk=\"29\" data-stat=\"ranker\" scope=\"row\">29</th><td class=\"left\" data-stat=\"team_name\"><a href=\"/contracts/UTA.html\">Utah Jazz</a></td><td class=\"right\" csk=\"96545338\" data-stat=\"y1\">$96,545,338</td><td class=\"right\" csk=\"55975104\" data-stat=\"y2\">$55,975,104</td><td class=\"right\" csk=\"43337263\" data-stat=\"y3\">$43,337,263</td><td class=\"right\" csk=\"19232062\" data-stat=\"y4\">$19,232,062</td><td class=\"right iz\" data-stat=\"y5\"></td><td class=\"right iz\" data-stat=\"y6\"></td></tr>,\n",
       " <tr><th class=\"right\" csk=\"30\" data-stat=\"ranker\" scope=\"row\">30</th><td class=\"left\" data-stat=\"team_name\"><a href=\"/contracts/HOU.html\">Houston Rockets</a></td><td class=\"right\" csk=\"69850870\" data-stat=\"y1\">$69,850,870</td><td class=\"right\" csk=\"69306999\" data-stat=\"y2\">$69,306,999</td><td class=\"right\" csk=\"49495518\" data-stat=\"y3\">$49,495,518</td><td class=\"right\" csk=\"35955919\" data-stat=\"y4\">$35,955,919</td><td class=\"right iz\" data-stat=\"y5\"></td><td class=\"right iz\" data-stat=\"y6\"></td></tr>]"
      ]
     },
     "execution_count": 53,
     "metadata": {},
     "output_type": "execute_result"
    }
   ],
   "source": [
    "column_data"
   ]
  },
  {
   "cell_type": "code",
   "execution_count": 54,
   "id": "553842f0",
   "metadata": {},
   "outputs": [],
   "source": [
    "for row in column_data:\n",
    "    row_data = row.find_all(['th','td'])\n",
    "    individual_row_data = [r.text.strip() for r in row_data]\n",
    "    \n",
    "    length = len(df)\n",
    "    df.loc[length] = individual_row_data"
   ]
  },
  {
   "cell_type": "code",
   "execution_count": 55,
   "id": "ca7ec1aa",
   "metadata": {},
   "outputs": [
    {
     "data": {
      "text/html": [
       "<div>\n",
       "<style scoped>\n",
       "    .dataframe tbody tr th:only-of-type {\n",
       "        vertical-align: middle;\n",
       "    }\n",
       "\n",
       "    .dataframe tbody tr th {\n",
       "        vertical-align: top;\n",
       "    }\n",
       "\n",
       "    .dataframe thead th {\n",
       "        text-align: right;\n",
       "    }\n",
       "</style>\n",
       "<table border=\"1\" class=\"dataframe\">\n",
       "  <thead>\n",
       "    <tr style=\"text-align: right;\">\n",
       "      <th></th>\n",
       "      <th>Rk</th>\n",
       "      <th>Team</th>\n",
       "      <th>2023-24</th>\n",
       "      <th>2024-25</th>\n",
       "      <th>2025-26</th>\n",
       "      <th>2026-27</th>\n",
       "      <th>2027-28</th>\n",
       "      <th>2028-29</th>\n",
       "    </tr>\n",
       "  </thead>\n",
       "  <tbody>\n",
       "    <tr>\n",
       "      <th>0</th>\n",
       "      <td>1</td>\n",
       "      <td>Los Angeles Clippers</td>\n",
       "      <td>$185,299,089</td>\n",
       "      <td>$150,613,648</td>\n",
       "      <td>$23,137,638</td>\n",
       "      <td>$4,792,059</td>\n",
       "      <td></td>\n",
       "      <td></td>\n",
       "    </tr>\n",
       "    <tr>\n",
       "      <th>1</th>\n",
       "      <td>2</td>\n",
       "      <td>Atlanta Hawks</td>\n",
       "      <td>$181,282,107</td>\n",
       "      <td>$135,101,573</td>\n",
       "      <td>$111,429,025</td>\n",
       "      <td>$83,188,502</td>\n",
       "      <td></td>\n",
       "      <td></td>\n",
       "    </tr>\n",
       "    <tr>\n",
       "      <th>2</th>\n",
       "      <td>3</td>\n",
       "      <td>Golden State Warriors</td>\n",
       "      <td>$180,764,172</td>\n",
       "      <td>$147,127,538</td>\n",
       "      <td>$91,517,992</td>\n",
       "      <td>$35,849,103</td>\n",
       "      <td></td>\n",
       "      <td></td>\n",
       "    </tr>\n",
       "    <tr>\n",
       "      <th>3</th>\n",
       "      <td>4</td>\n",
       "      <td>Boston Celtics</td>\n",
       "      <td>$171,350,016</td>\n",
       "      <td>$102,841,470</td>\n",
       "      <td>$52,880,796</td>\n",
       "      <td>$2,406,205</td>\n",
       "      <td></td>\n",
       "      <td></td>\n",
       "    </tr>\n",
       "    <tr>\n",
       "      <th>4</th>\n",
       "      <td>5</td>\n",
       "      <td>Miami Heat</td>\n",
       "      <td>$167,188,247</td>\n",
       "      <td>$145,329,917</td>\n",
       "      <td>$148,705,031</td>\n",
       "      <td>$38,939,141</td>\n",
       "      <td></td>\n",
       "      <td></td>\n",
       "    </tr>\n",
       "    <tr>\n",
       "      <th>5</th>\n",
       "      <td>6</td>\n",
       "      <td>Phoenix Suns</td>\n",
       "      <td>$166,722,453</td>\n",
       "      <td>$186,725,421</td>\n",
       "      <td>$197,110,293</td>\n",
       "      <td>$114,252,810</td>\n",
       "      <td>$61,063,800</td>\n",
       "      <td></td>\n",
       "    </tr>\n",
       "    <tr>\n",
       "      <th>6</th>\n",
       "      <td>7</td>\n",
       "      <td>Denver Nuggets</td>\n",
       "      <td>$164,315,730</td>\n",
       "      <td>$171,212,116</td>\n",
       "      <td>$127,530,978</td>\n",
       "      <td>$103,789,081</td>\n",
       "      <td>$61,908,000</td>\n",
       "      <td></td>\n",
       "    </tr>\n",
       "    <tr>\n",
       "      <th>7</th>\n",
       "      <td>8</td>\n",
       "      <td>Philadelphia 76ers</td>\n",
       "      <td>$164,159,456</td>\n",
       "      <td>$66,209,363</td>\n",
       "      <td>$54,404,000</td>\n",
       "      <td>$58,156,000</td>\n",
       "      <td></td>\n",
       "      <td></td>\n",
       "    </tr>\n",
       "    <tr>\n",
       "      <th>8</th>\n",
       "      <td>9</td>\n",
       "      <td>New Orleans Pelicans</td>\n",
       "      <td>$154,448,264</td>\n",
       "      <td>$134,468,185</td>\n",
       "      <td>$81,975,695</td>\n",
       "      <td>$48,561,895</td>\n",
       "      <td>$44,220,000</td>\n",
       "      <td></td>\n",
       "    </tr>\n",
       "    <tr>\n",
       "      <th>9</th>\n",
       "      <td>10</td>\n",
       "      <td>Minnesota Timberwolves</td>\n",
       "      <td>$149,441,150</td>\n",
       "      <td>$111,615,757</td>\n",
       "      <td>$121,623,970</td>\n",
       "      <td>$57,124,200</td>\n",
       "      <td>$61,063,800</td>\n",
       "      <td></td>\n",
       "    </tr>\n",
       "    <tr>\n",
       "      <th>10</th>\n",
       "      <td>11</td>\n",
       "      <td>Memphis Grizzlies</td>\n",
       "      <td>$146,843,762</td>\n",
       "      <td>$152,729,813</td>\n",
       "      <td>$112,270,143</td>\n",
       "      <td>$60,205,000</td>\n",
       "      <td>$44,220,000</td>\n",
       "      <td></td>\n",
       "    </tr>\n",
       "    <tr>\n",
       "      <th>11</th>\n",
       "      <td>12</td>\n",
       "      <td>Oklahoma City Thunder</td>\n",
       "      <td>$142,161,291</td>\n",
       "      <td>$129,514,493</td>\n",
       "      <td>$102,597,309</td>\n",
       "      <td>$73,112,178</td>\n",
       "      <td></td>\n",
       "      <td></td>\n",
       "    </tr>\n",
       "    <tr>\n",
       "      <th>12</th>\n",
       "      <td>13</td>\n",
       "      <td>Chicago Bulls</td>\n",
       "      <td>$142,023,874</td>\n",
       "      <td>$101,811,969</td>\n",
       "      <td>$73,620,455</td>\n",
       "      <td>$51,373,585</td>\n",
       "      <td></td>\n",
       "      <td></td>\n",
       "    </tr>\n",
       "    <tr>\n",
       "      <th>13</th>\n",
       "      <td>14</td>\n",
       "      <td>New York Knicks</td>\n",
       "      <td>$141,906,737</td>\n",
       "      <td>$118,023,452</td>\n",
       "      <td>$95,082,304</td>\n",
       "      <td>$29,616,071</td>\n",
       "      <td></td>\n",
       "      <td></td>\n",
       "    </tr>\n",
       "    <tr>\n",
       "      <th>14</th>\n",
       "      <td>15</td>\n",
       "      <td>Detroit Pistons</td>\n",
       "      <td>$135,824,008</td>\n",
       "      <td>$71,985,486</td>\n",
       "      <td>$28,252,027</td>\n",
       "      <td>$16,316,908</td>\n",
       "      <td></td>\n",
       "      <td></td>\n",
       "    </tr>\n",
       "    <tr>\n",
       "      <th>15</th>\n",
       "      <td>16</td>\n",
       "      <td>Portland Trail Blazers</td>\n",
       "      <td>$126,701,092</td>\n",
       "      <td>$131,361,370</td>\n",
       "      <td>$137,618,514</td>\n",
       "      <td>$90,147,387</td>\n",
       "      <td>$268,032</td>\n",
       "      <td>$268,032</td>\n",
       "    </tr>\n",
       "    <tr>\n",
       "      <th>16</th>\n",
       "      <td>17</td>\n",
       "      <td>Toronto Raptors</td>\n",
       "      <td>$123,889,081</td>\n",
       "      <td>$47,653,010</td>\n",
       "      <td>$4,990,560</td>\n",
       "      <td>$7,131,511</td>\n",
       "      <td></td>\n",
       "      <td></td>\n",
       "    </tr>\n",
       "    <tr>\n",
       "      <th>17</th>\n",
       "      <td>18</td>\n",
       "      <td>Brooklyn Nets</td>\n",
       "      <td>$122,638,319</td>\n",
       "      <td>$92,951,002</td>\n",
       "      <td>$46,939,680</td>\n",
       "      <td>$10,780,946</td>\n",
       "      <td></td>\n",
       "      <td></td>\n",
       "    </tr>\n",
       "    <tr>\n",
       "      <th>18</th>\n",
       "      <td>19</td>\n",
       "      <td>Cleveland Cavaliers</td>\n",
       "      <td>$120,905,587</td>\n",
       "      <td>$117,588,652</td>\n",
       "      <td>$102,580,076</td>\n",
       "      <td>$41,540,000</td>\n",
       "      <td>$44,220,000</td>\n",
       "      <td></td>\n",
       "    </tr>\n",
       "    <tr>\n",
       "      <th>19</th>\n",
       "      <td>20</td>\n",
       "      <td>San Antonio Spurs</td>\n",
       "      <td>$120,527,101</td>\n",
       "      <td>$58,331,200</td>\n",
       "      <td>$50,161,472</td>\n",
       "      <td>$34,368,246</td>\n",
       "      <td></td>\n",
       "      <td></td>\n",
       "    </tr>\n",
       "    <tr>\n",
       "      <th>20</th>\n",
       "      <td>21</td>\n",
       "      <td>Sacramento Kings</td>\n",
       "      <td>$118,760,175</td>\n",
       "      <td>$92,953,795</td>\n",
       "      <td>$87,453,461</td>\n",
       "      <td>$2,406,205</td>\n",
       "      <td></td>\n",
       "      <td></td>\n",
       "    </tr>\n",
       "    <tr>\n",
       "      <th>21</th>\n",
       "      <td>22</td>\n",
       "      <td>Orlando Magic</td>\n",
       "      <td>$117,012,611</td>\n",
       "      <td>$72,612,056</td>\n",
       "      <td>$41,872,468</td>\n",
       "      <td>$17,444,255</td>\n",
       "      <td></td>\n",
       "      <td></td>\n",
       "    </tr>\n",
       "    <tr>\n",
       "      <th>22</th>\n",
       "      <td>23</td>\n",
       "      <td>Milwaukee Bucks</td>\n",
       "      <td>$114,042,918</td>\n",
       "      <td>$112,176,005</td>\n",
       "      <td>$79,586,167</td>\n",
       "      <td></td>\n",
       "      <td></td>\n",
       "      <td></td>\n",
       "    </tr>\n",
       "    <tr>\n",
       "      <th>23</th>\n",
       "      <td>24</td>\n",
       "      <td>Washington Wizards</td>\n",
       "      <td>$113,280,423</td>\n",
       "      <td>$79,726,471</td>\n",
       "      <td>$79,863,971</td>\n",
       "      <td>$44,534,654</td>\n",
       "      <td></td>\n",
       "      <td></td>\n",
       "    </tr>\n",
       "    <tr>\n",
       "      <th>24</th>\n",
       "      <td>25</td>\n",
       "      <td>Indiana Pacers</td>\n",
       "      <td>$106,527,408</td>\n",
       "      <td>$68,729,246</td>\n",
       "      <td>$20,831,264</td>\n",
       "      <td>$13,510,211</td>\n",
       "      <td></td>\n",
       "      <td></td>\n",
       "    </tr>\n",
       "    <tr>\n",
       "      <th>25</th>\n",
       "      <td>26</td>\n",
       "      <td>Los Angeles Lakers</td>\n",
       "      <td>$104,082,970</td>\n",
       "      <td>$104,738,865</td>\n",
       "      <td>$4,064,640</td>\n",
       "      <td>$6,243,288</td>\n",
       "      <td></td>\n",
       "      <td></td>\n",
       "    </tr>\n",
       "    <tr>\n",
       "      <th>26</th>\n",
       "      <td>27</td>\n",
       "      <td>Charlotte Hornets</td>\n",
       "      <td>$101,592,296</td>\n",
       "      <td>$65,916,734</td>\n",
       "      <td>$58,466,493</td>\n",
       "      <td>$19,994,693</td>\n",
       "      <td></td>\n",
       "      <td></td>\n",
       "    </tr>\n",
       "    <tr>\n",
       "      <th>27</th>\n",
       "      <td>28</td>\n",
       "      <td>Dallas Mavericks</td>\n",
       "      <td>$100,736,811</td>\n",
       "      <td>$99,013,903</td>\n",
       "      <td>$65,260,100</td>\n",
       "      <td>$61,465,894</td>\n",
       "      <td></td>\n",
       "      <td></td>\n",
       "    </tr>\n",
       "    <tr>\n",
       "      <th>28</th>\n",
       "      <td>29</td>\n",
       "      <td>Utah Jazz</td>\n",
       "      <td>$96,545,338</td>\n",
       "      <td>$55,975,104</td>\n",
       "      <td>$43,337,263</td>\n",
       "      <td>$19,232,062</td>\n",
       "      <td></td>\n",
       "      <td></td>\n",
       "    </tr>\n",
       "    <tr>\n",
       "      <th>29</th>\n",
       "      <td>30</td>\n",
       "      <td>Houston Rockets</td>\n",
       "      <td>$69,850,870</td>\n",
       "      <td>$69,306,999</td>\n",
       "      <td>$49,495,518</td>\n",
       "      <td>$35,955,919</td>\n",
       "      <td></td>\n",
       "      <td></td>\n",
       "    </tr>\n",
       "  </tbody>\n",
       "</table>\n",
       "</div>"
      ],
      "text/plain": [
       "    Rk                    Team       2023-24       2024-25       2025-26  \\\n",
       "0    1    Los Angeles Clippers  $185,299,089  $150,613,648   $23,137,638   \n",
       "1    2           Atlanta Hawks  $181,282,107  $135,101,573  $111,429,025   \n",
       "2    3   Golden State Warriors  $180,764,172  $147,127,538   $91,517,992   \n",
       "3    4          Boston Celtics  $171,350,016  $102,841,470   $52,880,796   \n",
       "4    5              Miami Heat  $167,188,247  $145,329,917  $148,705,031   \n",
       "5    6            Phoenix Suns  $166,722,453  $186,725,421  $197,110,293   \n",
       "6    7          Denver Nuggets  $164,315,730  $171,212,116  $127,530,978   \n",
       "7    8      Philadelphia 76ers  $164,159,456   $66,209,363   $54,404,000   \n",
       "8    9    New Orleans Pelicans  $154,448,264  $134,468,185   $81,975,695   \n",
       "9   10  Minnesota Timberwolves  $149,441,150  $111,615,757  $121,623,970   \n",
       "10  11       Memphis Grizzlies  $146,843,762  $152,729,813  $112,270,143   \n",
       "11  12   Oklahoma City Thunder  $142,161,291  $129,514,493  $102,597,309   \n",
       "12  13           Chicago Bulls  $142,023,874  $101,811,969   $73,620,455   \n",
       "13  14         New York Knicks  $141,906,737  $118,023,452   $95,082,304   \n",
       "14  15         Detroit Pistons  $135,824,008   $71,985,486   $28,252,027   \n",
       "15  16  Portland Trail Blazers  $126,701,092  $131,361,370  $137,618,514   \n",
       "16  17         Toronto Raptors  $123,889,081   $47,653,010    $4,990,560   \n",
       "17  18           Brooklyn Nets  $122,638,319   $92,951,002   $46,939,680   \n",
       "18  19     Cleveland Cavaliers  $120,905,587  $117,588,652  $102,580,076   \n",
       "19  20       San Antonio Spurs  $120,527,101   $58,331,200   $50,161,472   \n",
       "20  21        Sacramento Kings  $118,760,175   $92,953,795   $87,453,461   \n",
       "21  22           Orlando Magic  $117,012,611   $72,612,056   $41,872,468   \n",
       "22  23         Milwaukee Bucks  $114,042,918  $112,176,005   $79,586,167   \n",
       "23  24      Washington Wizards  $113,280,423   $79,726,471   $79,863,971   \n",
       "24  25          Indiana Pacers  $106,527,408   $68,729,246   $20,831,264   \n",
       "25  26      Los Angeles Lakers  $104,082,970  $104,738,865    $4,064,640   \n",
       "26  27       Charlotte Hornets  $101,592,296   $65,916,734   $58,466,493   \n",
       "27  28        Dallas Mavericks  $100,736,811   $99,013,903   $65,260,100   \n",
       "28  29               Utah Jazz   $96,545,338   $55,975,104   $43,337,263   \n",
       "29  30         Houston Rockets   $69,850,870   $69,306,999   $49,495,518   \n",
       "\n",
       "         2026-27      2027-28   2028-29  \n",
       "0     $4,792,059                         \n",
       "1    $83,188,502                         \n",
       "2    $35,849,103                         \n",
       "3     $2,406,205                         \n",
       "4    $38,939,141                         \n",
       "5   $114,252,810  $61,063,800            \n",
       "6   $103,789,081  $61,908,000            \n",
       "7    $58,156,000                         \n",
       "8    $48,561,895  $44,220,000            \n",
       "9    $57,124,200  $61,063,800            \n",
       "10   $60,205,000  $44,220,000            \n",
       "11   $73,112,178                         \n",
       "12   $51,373,585                         \n",
       "13   $29,616,071                         \n",
       "14   $16,316,908                         \n",
       "15   $90,147,387     $268,032  $268,032  \n",
       "16    $7,131,511                         \n",
       "17   $10,780,946                         \n",
       "18   $41,540,000  $44,220,000            \n",
       "19   $34,368,246                         \n",
       "20    $2,406,205                         \n",
       "21   $17,444,255                         \n",
       "22                                       \n",
       "23   $44,534,654                         \n",
       "24   $13,510,211                         \n",
       "25    $6,243,288                         \n",
       "26   $19,994,693                         \n",
       "27   $61,465,894                         \n",
       "28   $19,232,062                         \n",
       "29   $35,955,919                         "
      ]
     },
     "execution_count": 55,
     "metadata": {},
     "output_type": "execute_result"
    }
   ],
   "source": [
    "df"
   ]
  },
  {
   "cell_type": "markdown",
   "id": "f0231b75",
   "metadata": {},
   "source": [
    "### Step 3: Cleaning Data"
   ]
  },
  {
   "cell_type": "code",
   "execution_count": 57,
   "id": "4853b49c",
   "metadata": {},
   "outputs": [],
   "source": [
    "df = df.drop_duplicates()"
   ]
  },
  {
   "cell_type": "code",
   "execution_count": 59,
   "id": "6388e617",
   "metadata": {},
   "outputs": [
    {
     "data": {
      "text/plain": [
       "Rk         object\n",
       "Team       object\n",
       "2023-24    object\n",
       "2024-25    object\n",
       "2025-26    object\n",
       "2026-27    object\n",
       "2027-28    object\n",
       "2028-29    object\n",
       "dtype: object"
      ]
     },
     "execution_count": 59,
     "metadata": {},
     "output_type": "execute_result"
    }
   ],
   "source": [
    "df.dtypes"
   ]
  },
  {
   "cell_type": "code",
   "execution_count": 69,
   "id": "bf0f9a1c",
   "metadata": {},
   "outputs": [
    {
     "name": "stderr",
     "output_type": "stream",
     "text": [
      "/var/folders/bl/s70bg5fs2b58kc67cgyd09pm0000gn/T/ipykernel_36663/1735942490.py:2: FutureWarning: The default value of regex will change from True to False in a future version. In addition, single character regular expressions will *not* be treated as literal strings when regex=True.\n",
      "  df[column] = df[column].str.replace('$','')\n"
     ]
    }
   ],
   "source": [
    "for column in df:\n",
    "    df[column] = df[column].str.replace('$','')\n",
    "    df[column] = df[column].str.replace(',','')"
   ]
  },
  {
   "cell_type": "code",
   "execution_count": 71,
   "id": "225a14ab",
   "metadata": {},
   "outputs": [
    {
     "data": {
      "text/html": [
       "<div>\n",
       "<style scoped>\n",
       "    .dataframe tbody tr th:only-of-type {\n",
       "        vertical-align: middle;\n",
       "    }\n",
       "\n",
       "    .dataframe tbody tr th {\n",
       "        vertical-align: top;\n",
       "    }\n",
       "\n",
       "    .dataframe thead th {\n",
       "        text-align: right;\n",
       "    }\n",
       "</style>\n",
       "<table border=\"1\" class=\"dataframe\">\n",
       "  <thead>\n",
       "    <tr style=\"text-align: right;\">\n",
       "      <th></th>\n",
       "      <th>Rk</th>\n",
       "      <th>Team</th>\n",
       "      <th>2023-24</th>\n",
       "      <th>2024-25</th>\n",
       "      <th>2025-26</th>\n",
       "      <th>2026-27</th>\n",
       "      <th>2027-28</th>\n",
       "      <th>2028-29</th>\n",
       "    </tr>\n",
       "  </thead>\n",
       "  <tbody>\n",
       "    <tr>\n",
       "      <th>0</th>\n",
       "      <td>1</td>\n",
       "      <td>Los Angeles Clippers</td>\n",
       "      <td>185299089</td>\n",
       "      <td>150613648</td>\n",
       "      <td>23137638</td>\n",
       "      <td>4792059</td>\n",
       "      <td></td>\n",
       "      <td></td>\n",
       "    </tr>\n",
       "    <tr>\n",
       "      <th>1</th>\n",
       "      <td>2</td>\n",
       "      <td>Atlanta Hawks</td>\n",
       "      <td>181282107</td>\n",
       "      <td>135101573</td>\n",
       "      <td>111429025</td>\n",
       "      <td>83188502</td>\n",
       "      <td></td>\n",
       "      <td></td>\n",
       "    </tr>\n",
       "    <tr>\n",
       "      <th>2</th>\n",
       "      <td>3</td>\n",
       "      <td>Golden State Warriors</td>\n",
       "      <td>180764172</td>\n",
       "      <td>147127538</td>\n",
       "      <td>91517992</td>\n",
       "      <td>35849103</td>\n",
       "      <td></td>\n",
       "      <td></td>\n",
       "    </tr>\n",
       "    <tr>\n",
       "      <th>3</th>\n",
       "      <td>4</td>\n",
       "      <td>Boston Celtics</td>\n",
       "      <td>171350016</td>\n",
       "      <td>102841470</td>\n",
       "      <td>52880796</td>\n",
       "      <td>2406205</td>\n",
       "      <td></td>\n",
       "      <td></td>\n",
       "    </tr>\n",
       "    <tr>\n",
       "      <th>4</th>\n",
       "      <td>5</td>\n",
       "      <td>Miami Heat</td>\n",
       "      <td>167188247</td>\n",
       "      <td>145329917</td>\n",
       "      <td>148705031</td>\n",
       "      <td>38939141</td>\n",
       "      <td></td>\n",
       "      <td></td>\n",
       "    </tr>\n",
       "  </tbody>\n",
       "</table>\n",
       "</div>"
      ],
      "text/plain": [
       "  Rk                   Team    2023-24    2024-25    2025-26   2026-27  \\\n",
       "0  1   Los Angeles Clippers  185299089  150613648   23137638   4792059   \n",
       "1  2          Atlanta Hawks  181282107  135101573  111429025  83188502   \n",
       "2  3  Golden State Warriors  180764172  147127538   91517992  35849103   \n",
       "3  4         Boston Celtics  171350016  102841470   52880796   2406205   \n",
       "4  5             Miami Heat  167188247  145329917  148705031  38939141   \n",
       "\n",
       "  2027-28 2028-29  \n",
       "0                  \n",
       "1                  \n",
       "2                  \n",
       "3                  \n",
       "4                  "
      ]
     },
     "execution_count": 71,
     "metadata": {},
     "output_type": "execute_result"
    }
   ],
   "source": [
    "df.head()"
   ]
  },
  {
   "cell_type": "code",
   "execution_count": 73,
   "id": "650f9d8b",
   "metadata": {},
   "outputs": [
    {
     "data": {
      "text/plain": [
       "Index(['Rk', 'Team', '2023-24', '2024-25', '2025-26', '2026-27', '2027-28',\n",
       "       '2028-29'],\n",
       "      dtype='object')"
      ]
     },
     "execution_count": 73,
     "metadata": {},
     "output_type": "execute_result"
    }
   ],
   "source": [
    "df.columns"
   ]
  },
  {
   "cell_type": "code",
   "execution_count": 91,
   "id": "178cf103",
   "metadata": {},
   "outputs": [
    {
     "data": {
      "text/html": [
       "<div>\n",
       "<style scoped>\n",
       "    .dataframe tbody tr th:only-of-type {\n",
       "        vertical-align: middle;\n",
       "    }\n",
       "\n",
       "    .dataframe tbody tr th {\n",
       "        vertical-align: top;\n",
       "    }\n",
       "\n",
       "    .dataframe thead th {\n",
       "        text-align: right;\n",
       "    }\n",
       "</style>\n",
       "<table border=\"1\" class=\"dataframe\">\n",
       "  <thead>\n",
       "    <tr style=\"text-align: right;\">\n",
       "      <th></th>\n",
       "      <th>2023-24</th>\n",
       "      <th>2024-25</th>\n",
       "      <th>2025-26</th>\n",
       "      <th>2026-27</th>\n",
       "      <th>2027-28</th>\n",
       "      <th>2028-29</th>\n",
       "    </tr>\n",
       "  </thead>\n",
       "  <tbody>\n",
       "    <tr>\n",
       "      <th>0</th>\n",
       "      <td>185299089</td>\n",
       "      <td>150613648</td>\n",
       "      <td>23137638</td>\n",
       "      <td>4792059.0</td>\n",
       "      <td>NaN</td>\n",
       "      <td>NaN</td>\n",
       "    </tr>\n",
       "    <tr>\n",
       "      <th>1</th>\n",
       "      <td>181282107</td>\n",
       "      <td>135101573</td>\n",
       "      <td>111429025</td>\n",
       "      <td>83188502.0</td>\n",
       "      <td>NaN</td>\n",
       "      <td>NaN</td>\n",
       "    </tr>\n",
       "    <tr>\n",
       "      <th>2</th>\n",
       "      <td>180764172</td>\n",
       "      <td>147127538</td>\n",
       "      <td>91517992</td>\n",
       "      <td>35849103.0</td>\n",
       "      <td>NaN</td>\n",
       "      <td>NaN</td>\n",
       "    </tr>\n",
       "    <tr>\n",
       "      <th>3</th>\n",
       "      <td>171350016</td>\n",
       "      <td>102841470</td>\n",
       "      <td>52880796</td>\n",
       "      <td>2406205.0</td>\n",
       "      <td>NaN</td>\n",
       "      <td>NaN</td>\n",
       "    </tr>\n",
       "    <tr>\n",
       "      <th>4</th>\n",
       "      <td>167188247</td>\n",
       "      <td>145329917</td>\n",
       "      <td>148705031</td>\n",
       "      <td>38939141.0</td>\n",
       "      <td>NaN</td>\n",
       "      <td>NaN</td>\n",
       "    </tr>\n",
       "  </tbody>\n",
       "</table>\n",
       "</div>"
      ],
      "text/plain": [
       "     2023-24    2024-25    2025-26     2026-27  2027-28  2028-29\n",
       "0  185299089  150613648   23137638   4792059.0      NaN      NaN\n",
       "1  181282107  135101573  111429025  83188502.0      NaN      NaN\n",
       "2  180764172  147127538   91517992  35849103.0      NaN      NaN\n",
       "3  171350016  102841470   52880796   2406205.0      NaN      NaN\n",
       "4  167188247  145329917  148705031  38939141.0      NaN      NaN"
      ]
     },
     "execution_count": 91,
     "metadata": {},
     "output_type": "execute_result"
    }
   ],
   "source": [
    "df[['2023-24', '2024-25', '2025-26', '2026-27', '2027-28','2028-29']].head()"
   ]
  },
  {
   "cell_type": "code",
   "execution_count": 88,
   "id": "db9ff911",
   "metadata": {},
   "outputs": [],
   "source": [
    "df[['2023-24', '2024-25', '2025-26', '2026-27', '2027-28','2028-29']] = df[['2023-24', '2024-25', '2025-26', '2026-27', '2027-28','2028-29']].apply(pd.to_numeric)"
   ]
  },
  {
   "cell_type": "code",
   "execution_count": 101,
   "id": "bbed8d18",
   "metadata": {},
   "outputs": [
    {
     "data": {
      "text/html": [
       "<div>\n",
       "<style scoped>\n",
       "    .dataframe tbody tr th:only-of-type {\n",
       "        vertical-align: middle;\n",
       "    }\n",
       "\n",
       "    .dataframe tbody tr th {\n",
       "        vertical-align: top;\n",
       "    }\n",
       "\n",
       "    .dataframe thead th {\n",
       "        text-align: right;\n",
       "    }\n",
       "</style>\n",
       "<table border=\"1\" class=\"dataframe\">\n",
       "  <thead>\n",
       "    <tr style=\"text-align: right;\">\n",
       "      <th></th>\n",
       "      <th>Rk</th>\n",
       "      <th>Team</th>\n",
       "      <th>2023-24</th>\n",
       "      <th>2024-25</th>\n",
       "      <th>2025-26</th>\n",
       "      <th>2026-27</th>\n",
       "      <th>2027-28</th>\n",
       "      <th>2028-29</th>\n",
       "    </tr>\n",
       "  </thead>\n",
       "  <tbody>\n",
       "    <tr>\n",
       "      <th>0</th>\n",
       "      <td>1</td>\n",
       "      <td>Los Angeles Clippers</td>\n",
       "      <td>185299089</td>\n",
       "      <td>150613648</td>\n",
       "      <td>23137638</td>\n",
       "      <td>4792059.0</td>\n",
       "      <td>NaN</td>\n",
       "      <td>NaN</td>\n",
       "    </tr>\n",
       "    <tr>\n",
       "      <th>1</th>\n",
       "      <td>2</td>\n",
       "      <td>Atlanta Hawks</td>\n",
       "      <td>181282107</td>\n",
       "      <td>135101573</td>\n",
       "      <td>111429025</td>\n",
       "      <td>83188502.0</td>\n",
       "      <td>NaN</td>\n",
       "      <td>NaN</td>\n",
       "    </tr>\n",
       "    <tr>\n",
       "      <th>2</th>\n",
       "      <td>3</td>\n",
       "      <td>Golden State Warriors</td>\n",
       "      <td>180764172</td>\n",
       "      <td>147127538</td>\n",
       "      <td>91517992</td>\n",
       "      <td>35849103.0</td>\n",
       "      <td>NaN</td>\n",
       "      <td>NaN</td>\n",
       "    </tr>\n",
       "    <tr>\n",
       "      <th>3</th>\n",
       "      <td>4</td>\n",
       "      <td>Boston Celtics</td>\n",
       "      <td>171350016</td>\n",
       "      <td>102841470</td>\n",
       "      <td>52880796</td>\n",
       "      <td>2406205.0</td>\n",
       "      <td>NaN</td>\n",
       "      <td>NaN</td>\n",
       "    </tr>\n",
       "    <tr>\n",
       "      <th>4</th>\n",
       "      <td>5</td>\n",
       "      <td>Miami Heat</td>\n",
       "      <td>167188247</td>\n",
       "      <td>145329917</td>\n",
       "      <td>148705031</td>\n",
       "      <td>38939141.0</td>\n",
       "      <td>NaN</td>\n",
       "      <td>NaN</td>\n",
       "    </tr>\n",
       "  </tbody>\n",
       "</table>\n",
       "</div>"
      ],
      "text/plain": [
       "  Rk                   Team    2023-24    2024-25    2025-26     2026-27  \\\n",
       "0  1   Los Angeles Clippers  185299089  150613648   23137638   4792059.0   \n",
       "1  2          Atlanta Hawks  181282107  135101573  111429025  83188502.0   \n",
       "2  3  Golden State Warriors  180764172  147127538   91517992  35849103.0   \n",
       "3  4         Boston Celtics  171350016  102841470   52880796   2406205.0   \n",
       "4  5             Miami Heat  167188247  145329917  148705031  38939141.0   \n",
       "\n",
       "   2027-28  2028-29  \n",
       "0      NaN      NaN  \n",
       "1      NaN      NaN  \n",
       "2      NaN      NaN  \n",
       "3      NaN      NaN  \n",
       "4      NaN      NaN  "
      ]
     },
     "execution_count": 101,
     "metadata": {},
     "output_type": "execute_result"
    }
   ],
   "source": [
    "df.head()"
   ]
  },
  {
   "cell_type": "markdown",
   "id": "98913556",
   "metadata": {},
   "source": [
    "### Step 4: Visualizing Data"
   ]
  },
  {
   "cell_type": "code",
   "execution_count": 107,
   "id": "5eb2530e",
   "metadata": {},
   "outputs": [],
   "source": [
    "import numpy as np\n",
    "import seaborn as sns"
   ]
  },
  {
   "cell_type": "code",
   "execution_count": 131,
   "id": "ca1128bc",
   "metadata": {},
   "outputs": [],
   "source": [
    "sns.set_theme()\n",
    "sns.set_style('whitegrid')\n",
    "sns.set_context('paper')"
   ]
  },
  {
   "cell_type": "code",
   "execution_count": 132,
   "id": "80b7db28",
   "metadata": {},
   "outputs": [
    {
     "data": {
      "text/plain": [
       "<AxesSubplot:xlabel='Team', ylabel='2023-24'>"
      ]
     },
     "execution_count": 132,
     "metadata": {},
     "output_type": "execute_result"
    },
    {
     "data": {
      "image/png": "[encoded data removed]",
      "text/plain": [
       "<Figure size 640x480 with 1 Axes>"
      ]
     },
     "metadata": {},
     "output_type": "display_data"
    }
   ],
   "source": [
    "sns.barplot(x='Team',y='2023-24', data=df.nlargest(5,'2023-24'))"
   ]
  },
  {
   "cell_type": "code",
   "execution_count": 133,
   "id": "ce43db29",
   "metadata": {},
   "outputs": [
    {
     "name": "stderr",
     "output_type": "stream",
     "text": [
      "/opt/anaconda3/lib/python3.9/site-packages/seaborn/distributions.py:2619: FutureWarning: `distplot` is a deprecated function and will be removed in a future version. Please adapt your code to use either `displot` (a figure-level function with similar flexibility) or `histplot` (an axes-level function for histograms).\n",
      "  warnings.warn(msg, FutureWarning)\n"
     ]
    },
    {
     "data": {
      "text/plain": [
       "<AxesSubplot:xlabel='2023-24', ylabel='Density'>"
      ]
     },
     "execution_count": 133,
     "metadata": {},
     "output_type": "execute_result"
    },
    {
     "data": {
      "image/png": "[encoded data removed]",
      "text/plain": [
       "<Figure size 640x480 with 1 Axes>"
      ]
     },
     "metadata": {},
     "output_type": "display_data"
    }
   ],
   "source": [
    "sns.distplot(df['2023-24'],bins=10)"
   ]
  },
  {
   "cell_type": "code",
   "execution_count": 134,
   "id": "b2282229",
   "metadata": {},
   "outputs": [
    {
     "data": {
      "text/plain": [
       "<seaborn.axisgrid.JointGrid at 0x7fd213adc5e0>"
      ]
     },
     "execution_count": 134,
     "metadata": {},
     "output_type": "execute_result"
    },
    {
     "data": {
      "image/png": "[encoded data removed]",
      "text/plain": [
       "<Figure size 600x600 with 3 Axes>"
      ]
     },
     "metadata": {},
     "output_type": "display_data"
    }
   ],
   "source": [
    "sns.jointplot(x='2023-24',y='2024-25',data=df,kind='reg')"
   ]
  },
  {
   "cell_type": "code",
   "execution_count": null,
   "id": "256a29dd",
   "metadata": {},
   "outputs": [],
   "source": []
  }
 ],
 "metadata": {
  "kernelspec": {
   "display_name": "Python 3 (ipykernel)",
   "language": "python",
   "name": "python3"
  },
  "language_info": {
   "codemirror_mode": {
    "name": "ipython",
    "version": 3
   },
   "file_extension": ".py",
   "mimetype": "text/x-python",
   "name": "python",
   "nbconvert_exporter": "python",
   "pygments_lexer": "ipython3",
   "version": "3.9.13"
  }
 },
 "nbformat": 4,
 "nbformat_minor": 5
}
